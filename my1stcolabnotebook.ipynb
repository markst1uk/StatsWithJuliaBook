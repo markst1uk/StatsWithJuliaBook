{
  "nbformat": 4,
  "nbformat_minor": 0,
  "metadata": {
    "colab": {
      "name": "my1stcolabnotebook.ipynb",
      "provenance": [],
      "authorship_tag": "ABX9TyOiY3iRdTLCIHTfELaQMvzf",
      "include_colab_link": true
    },
    "kernelspec": {
      "name": "python3",
      "display_name": "Python 3"
    }
  },
  "cells": [
    {
      "cell_type": "markdown",
      "metadata": {
        "id": "view-in-github",
        "colab_type": "text"
      },
      "source": [
        "<a href=\"https://colab.research.google.com/github/markst1uk/StatsWithJuliaBook/blob/master/my1stcolabnotebook.ipynb\" target=\"_parent\"><img src=\"https://colab.research.google.com/assets/colab-badge.svg\" alt=\"Open In Colab\"/></a>"
      ]
    },
    {
      "cell_type": "code",
      "metadata": {
        "id": "pX3XOeb-6FGD",
        "outputId": "fc2dc977-c6dd-41df-b4a2-bee66f8ea68b",
        "colab": {
          "base_uri": "https://localhost:8080/",
          "height": 283
        }
      },
      "source": [
        "import numpy as np\n",
        "import matplotlib.pyplot as plt\n",
        "import scipy.stats as stats\n",
        "import time\n",
        "t1=time.time()\n",
        "\n",
        "N=100000\n",
        "pr=np.arange(0.5,N,1)/N\n",
        "x=stats.norm.ppf(pr)\n",
        "y=stats.norm.rvs(size=(N))\n",
        "y=np.sort(y)\n",
        "plt.plot(x,pr,y,pr,'.')\n",
        "plt.grid()\n",
        "plt.show()\n",
        "t2=time.time()\n",
        "print(t2-t1)\n"
      ],
      "execution_count": null,
      "outputs": [
        {
          "output_type": "display_data",
          "data": {
            "image/png": "[encoded data removed]",
            "text/plain": [
              "<Figure size 432x288 with 1 Axes>"
            ]
          },
          "metadata": {
            "tags": [],
            "needs_background": "light"
          }
        },
        {
          "output_type": "stream",
          "text": [
            "0.3097865581512451\n"
          ],
          "name": "stdout"
        }
      ]
    }
  ]
}